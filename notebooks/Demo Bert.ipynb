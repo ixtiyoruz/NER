{
 "cells": [
  {
   "cell_type": "code",
   "execution_count": 1,
   "id": "339a69c9",
   "metadata": {},
   "outputs": [],
   "source": [
    "import os\n",
    "import json\n",
    "import numpy as np\n",
    "import pandas as pd\n",
    "from sklearn.metrics import accuracy_score\n",
    "import torch\n",
    "from torch.utils.data import Dataset, DataLoader\n",
    "from transformers import BertTokenizer, BertConfig, BertForTokenClassification\n",
    "import matplotlib.pyplot as plt"
   ]
  },
  {
   "cell_type": "code",
   "execution_count": 2,
   "id": "2804926f",
   "metadata": {},
   "outputs": [
    {
     "name": "stdout",
     "output_type": "stream",
     "text": [
      "cuda\n"
     ]
    }
   ],
   "source": [
    "from torch import cuda\n",
    "device = 'cuda' if cuda.is_available() else 'cpu'\n",
    "print(device)"
   ]
  },
  {
   "cell_type": "code",
   "execution_count": 3,
   "id": "c059d06f",
   "metadata": {},
   "outputs": [],
   "source": [
    "tokenizer = BertTokenizer.from_pretrained('bert-base-uncased')"
   ]
  },
  {
   "cell_type": "code",
   "execution_count": 4,
   "id": "dfa31bf1",
   "metadata": {},
   "outputs": [],
   "source": [
    "prod_start = 'B-PROD-STRT'\n",
    "prod_end = 'B-PROD-END'\n",
    "prod = 'B-PROD'\n",
    "\n",
    "label2id = {'O':0, prod:1}#, prod_start:2, prod_end:3}\n",
    "id2label = {0:'O', 1:prod}#, 2:prod_start, 3:prod_end}\n",
    "MAX_LEN = 128"
   ]
  },
  {
   "cell_type": "code",
   "execution_count": 5,
   "id": "4d2f9ba8",
   "metadata": {
    "scrolled": true
   },
   "outputs": [
    {
     "data": {
      "text/plain": [
       "BertForTokenClassification(\n",
       "  (bert): BertModel(\n",
       "    (embeddings): BertEmbeddings(\n",
       "      (word_embeddings): Embedding(30522, 768, padding_idx=0)\n",
       "      (position_embeddings): Embedding(512, 768)\n",
       "      (token_type_embeddings): Embedding(2, 768)\n",
       "      (LayerNorm): LayerNorm((768,), eps=1e-12, elementwise_affine=True)\n",
       "      (dropout): Dropout(p=0.1, inplace=False)\n",
       "    )\n",
       "    (encoder): BertEncoder(\n",
       "      (layer): ModuleList(\n",
       "        (0-11): 12 x BertLayer(\n",
       "          (attention): BertAttention(\n",
       "            (self): BertSelfAttention(\n",
       "              (query): Linear(in_features=768, out_features=768, bias=True)\n",
       "              (key): Linear(in_features=768, out_features=768, bias=True)\n",
       "              (value): Linear(in_features=768, out_features=768, bias=True)\n",
       "              (dropout): Dropout(p=0.1, inplace=False)\n",
       "            )\n",
       "            (output): BertSelfOutput(\n",
       "              (dense): Linear(in_features=768, out_features=768, bias=True)\n",
       "              (LayerNorm): LayerNorm((768,), eps=1e-12, elementwise_affine=True)\n",
       "              (dropout): Dropout(p=0.1, inplace=False)\n",
       "            )\n",
       "          )\n",
       "          (intermediate): BertIntermediate(\n",
       "            (dense): Linear(in_features=768, out_features=3072, bias=True)\n",
       "            (intermediate_act_fn): GELUActivation()\n",
       "          )\n",
       "          (output): BertOutput(\n",
       "            (dense): Linear(in_features=3072, out_features=768, bias=True)\n",
       "            (LayerNorm): LayerNorm((768,), eps=1e-12, elementwise_affine=True)\n",
       "            (dropout): Dropout(p=0.1, inplace=False)\n",
       "          )\n",
       "        )\n",
       "      )\n",
       "    )\n",
       "  )\n",
       "  (dropout): Dropout(p=0.1, inplace=False)\n",
       "  (classifier): Linear(in_features=768, out_features=2, bias=True)\n",
       ")"
      ]
     },
     "execution_count": 5,
     "metadata": {},
     "output_type": "execute_result"
    }
   ],
   "source": [
    "# model.load_state_dict()\n",
    "path = \"../data/saved_models/bert_trained.pth\"\n",
    "model = torch.load(path)\n",
    "model.eval()"
   ]
  },
  {
   "cell_type": "code",
   "execution_count": 6,
   "id": "5115d7d6",
   "metadata": {},
   "outputs": [],
   "source": [
    "# load data\n",
    "data_path = \"../data/crawled_texts/\"\n",
    "datas = [os.path.join(data_path, fname) for fname in sorted(os.listdir(data_path))]\n",
    "datas = [pd.read_json(fname, lines=True) for fname in datas]\n",
    "data = pd.concat(datas)"
   ]
  },
  {
   "cell_type": "code",
   "execution_count": 7,
   "id": "228916e7",
   "metadata": {},
   "outputs": [],
   "source": [
    "data.text = data.text.str.strip()"
   ]
  },
  {
   "cell_type": "code",
   "execution_count": 8,
   "id": "2864f61a",
   "metadata": {},
   "outputs": [],
   "source": [
    "def sperate_indices(indices_):\n",
    "    product_indices = []\n",
    "    if len(indices_) ==0:\n",
    "        return product_indices\n",
    "    start = indices_[0]\n",
    "    indices_ = indices_.tolist()\n",
    "    indices_.append(np.inf)\n",
    "    prev = start\n",
    "    if len(indices_)> 0:\n",
    "        for ind in indices_[1:]:        \n",
    "            if ind-prev > 1:\n",
    "                product_indices.append([start, prev])\n",
    "                start = ind\n",
    "            prev = ind\n",
    "    return product_indices\n",
    "\n",
    "def get_products(sentence_):\n",
    "    \"\"\"\n",
    "    this assumes that the only prod label is available\n",
    "    \"\"\"\n",
    "    inputs = tokenizer(sentence_, padding='max_length', truncation=True, max_length=MAX_LEN, return_tensors=\"pt\")\n",
    "    # move to gpu\n",
    "    ids = inputs[\"input_ids\"].to(device)\n",
    "    mask = inputs[\"attention_mask\"].to(device)\n",
    "    # forward pass\n",
    "    outputs = model(ids, mask)\n",
    "    logits = outputs[0]\n",
    "    active_logits = logits.view(-1, model.num_labels) # shape (batch_size * seq_len, num_labels)\n",
    "    flattened_predictions = torch.argmax(active_logits, axis=1) # shape (batch_size*seq_len,) - predictions at the token level\n",
    "    tokens = tokenizer.convert_ids_to_tokens(ids.squeeze().tolist())\n",
    "    token_predictions = [id2label[i] for i in flattened_predictions.cpu().numpy()]\n",
    "    wp_preds = list(zip(tokens, token_predictions)) # list of tuples. Each tuple = (wordpiece, prediction)\n",
    "    word_level_predictions = []\n",
    "    for pair in wp_preds:\n",
    "        if (pair[0].startswith(\" ##\")) or (pair[0] in ['[CLS]', '[SEP]', '[PAD]']):\n",
    "            # skip prediction\n",
    "            continue\n",
    "        else:\n",
    "            word_level_predictions.append(pair[1])\n",
    "\n",
    "    indices = np.where(np.array(token_predictions) == prod)[0]\n",
    "\n",
    "\n",
    "    products_indices = sperate_indices(indices)\n",
    "    product_names =[]\n",
    "    for product_indices in products_indices:\n",
    "        product_name = tokens[product_indices[0]:product_indices[1]+1]\n",
    "        new_product_name = []\n",
    "        for name in product_name:\n",
    "            if name.startswith(\"##\") and len(new_product_name) > 0:\n",
    "                new_product_name[-1] += name.replace(\"##\", '')\n",
    "            else:\n",
    "                new_product_name.append(name)\n",
    "        new_product_name = \" \".join([word for word in new_product_name \\\n",
    "                                 if not (name.startswith(\"##\") or word in ['[CLS]', '[SEP]', '[PAD]'])])\n",
    "        product_names.append(new_product_name)\n",
    "    return product_names\n",
    "\n",
    "\n",
    "def get_products_old(sentence_):\n",
    "    \"\"\"\n",
    "    this assumes that we have prod-start and prod-end and prod labels are available\n",
    "    \"\"\"\n",
    "    inputs = tokenizer(sentence_, padding='max_length', truncation=True, max_length=MAX_LEN, return_tensors=\"pt\")\n",
    "    # move to gpu\n",
    "    ids = inputs[\"input_ids\"].to(device)\n",
    "    mask = inputs[\"attention_mask\"].to(device)\n",
    "    # forward pass\n",
    "    outputs = model(ids, mask)\n",
    "    logits = outputs[0]\n",
    "    active_logits = logits.view(-1, model.num_labels) # shape (batch_size * seq_len, num_labels)\n",
    "    flattened_predictions = torch.argmax(active_logits, axis=1) # shape (batch_size*seq_len,) - predictions at the token level\n",
    "    tokens = tokenizer.convert_ids_to_tokens(ids.squeeze().tolist())\n",
    "    token_predictions = [id2label[i] for i in flattened_predictions.cpu().numpy()]\n",
    "    wp_preds = list(zip(tokens, token_predictions)) # list of tuples. Each tuple = (wordpiece, prediction)\n",
    "    word_level_predictions = []\n",
    "    for pair in wp_preds:\n",
    "        if (pair[0].startswith(\" ##\")) or (pair[0] in ['[CLS]', '[SEP]', '[PAD]']):\n",
    "            # skip prediction\n",
    "            continue\n",
    "        else:\n",
    "            word_level_predictions.append(pair[1])\n",
    "\n",
    "    indices_start = np.where(np.array(token_predictions) == prod_start)[0]\n",
    "    indices_end = np.where(np.array(token_predictions) == prod_end)[0]\n",
    "    \n",
    "    def sperate_indices_new(indices_start_, indices_end_):\n",
    "        indices_start_ = indices_start_.tolist()\n",
    "        indices_end_ = indices_end_.tolist()\n",
    "        product_indices = []\n",
    "        for end in indices_end_:\n",
    "            starts_tmp =[]\n",
    "            while len(indices_start_) > 0:\n",
    "                if indices_start_[0] < end:\n",
    "                    starts_tmp.append(indices_start_.pop(0))\n",
    "                else:\n",
    "                    break\n",
    "            if len(starts_tmp) == 1:\n",
    "                product_indices.append([starts_tmp[0], end])\n",
    "            elif(len(starts_tmp) > 1):\n",
    "                for start in starts_tmp[:-1]:\n",
    "                    product_indices.append([start, start+1])\n",
    "                product_indices.append([starts_tmp[-1], end])\n",
    "            else:\n",
    "                product_indices.append([end, end+1])\n",
    "        return product_indices\n",
    "\n",
    "    products_indices = sperate_indices_new(indices_start, indices_end)\n",
    "    product_names =[]\n",
    "    for product_indices in products_indices:\n",
    "        product_name = tokens[product_indices[0]:product_indices[1]+1]\n",
    "        new_product_name = []\n",
    "        for name in product_name:\n",
    "            if name.startswith(\"##\") and len(new_product_name) > 0:\n",
    "                new_product_name[-1] += name.replace(\"##\", '')\n",
    "            else:\n",
    "                new_product_name.append(name)\n",
    "        new_product_name = \" \".join([word for word in new_product_name \\\n",
    "                                 if not (name.startswith(\"##\") or word in ['[CLS]', '[SEP]', '[PAD]'])])\n",
    "        if len(new_product_name) > 0:\n",
    "            product_names.append(new_product_name)\n",
    "    return product_names"
   ]
  },
  {
   "cell_type": "code",
   "execution_count": 9,
   "id": "55a7f2fe",
   "metadata": {},
   "outputs": [],
   "source": [
    "sentences = data.text.apply(get_products)"
   ]
  },
  {
   "cell_type": "code",
   "execution_count": 10,
   "id": "0738697b",
   "metadata": {},
   "outputs": [],
   "source": [
    "sentences.to_csv('../data/results/predicted_results.csv')"
   ]
  },
  {
   "cell_type": "markdown",
   "id": "d2d896b7",
   "metadata": {},
   "source": [
    "# get the statistics of the all products"
   ]
  },
  {
   "cell_type": "code",
   "execution_count": 11,
   "id": "7932b601",
   "metadata": {},
   "outputs": [
    {
     "data": {
      "text/plain": [
       "654"
      ]
     },
     "execution_count": 11,
     "metadata": {},
     "output_type": "execute_result"
    }
   ],
   "source": [
    "sentences.apply(len).sum()"
   ]
  },
  {
   "cell_type": "code",
   "execution_count": 12,
   "id": "f1e058d9",
   "metadata": {},
   "outputs": [],
   "source": [
    "# get the all products\n",
    "all_prducts = np.concatenate(sentences.values.flatten())"
   ]
  },
  {
   "cell_type": "code",
   "execution_count": 13,
   "id": "bc4ed05b",
   "metadata": {},
   "outputs": [],
   "source": [
    "unique, counts = np.unique(all_prducts, return_counts=True)"
   ]
  },
  {
   "cell_type": "code",
   "execution_count": 14,
   "id": "51fb6ecc",
   "metadata": {},
   "outputs": [
    {
     "data": {
      "text/plain": [
       "377"
      ]
     },
     "execution_count": 14,
     "metadata": {},
     "output_type": "execute_result"
    }
   ],
   "source": [
    "len(unique)"
   ]
  },
  {
   "cell_type": "markdown",
   "id": "7d42627e",
   "metadata": {},
   "source": [
    "# most occured 10 objects"
   ]
  },
  {
   "cell_type": "code",
   "execution_count": 15,
   "id": "cc4f6f5c",
   "metadata": {},
   "outputs": [
    {
     "data": {
      "text/plain": [
       "['beak bird',\n",
       " 'desk',\n",
       " 'side chair',\n",
       " 'living gift card',\n",
       " 'chair',\n",
       " 'oak',\n",
       " 'table',\n",
       " 'ham',\n",
       " 'sofa',\n",
       " '']"
      ]
     },
     "execution_count": 15,
     "metadata": {},
     "output_type": "execute_result"
    }
   ],
   "source": [
    "unique[counts.argsort()[-10:]].tolist()"
   ]
  },
  {
   "cell_type": "code",
   "execution_count": 16,
   "id": "b7a846a3",
   "metadata": {},
   "outputs": [
    {
     "data": {
      "text/plain": [
       "<BarContainer object of 10 artists>"
      ]
     },
     "execution_count": 16,
     "metadata": {},
     "output_type": "execute_result"
    },
    {
     "data": {
      "image/png": "[encoded data removed]",
      "text/plain": [
       "<Figure size 2000x500 with 1 Axes>"
      ]
     },
     "metadata": {},
     "output_type": "display_data"
    }
   ],
   "source": [
    "fig, ax = plt.subplots(figsize=(20, 5))\n",
    "ax.bar(unique[counts.argsort()[-10:]].tolist(), counts.argsort()[-10:])"
   ]
  },
  {
   "cell_type": "code",
   "execution_count": null,
   "id": "3542ffa7",
   "metadata": {},
   "outputs": [],
   "source": []
  },
  {
   "cell_type": "code",
   "execution_count": null,
   "id": "0b86ab8a",
   "metadata": {},
   "outputs": [],
   "source": []
  },
  {
   "cell_type": "code",
   "execution_count": null,
   "id": "d6d07f7b",
   "metadata": {},
   "outputs": [],
   "source": []
  },
  {
   "cell_type": "code",
   "execution_count": null,
   "id": "bec84a7b",
   "metadata": {},
   "outputs": [],
   "source": []
  }
 ],
 "metadata": {
  "kernelspec": {
   "display_name": "Python 3 (ipykernel)",
   "language": "python",
   "name": "python3"
  },
  "language_info": {
   "codemirror_mode": {
    "name": "ipython",
    "version": 3
   },
   "file_extension": ".py",
   "mimetype": "text/x-python",
   "name": "python",
   "nbconvert_exporter": "python",
   "pygments_lexer": "ipython3",
   "version": "3.9.18"
  }
 },
 "nbformat": 4,
 "nbformat_minor": 5
}
