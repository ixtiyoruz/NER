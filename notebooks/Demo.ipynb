{
 "cells": [
  {
   "cell_type": "code",
   "execution_count": 57,
   "id": "339a69c9",
   "metadata": {},
   "outputs": [],
   "source": [
    "import os\n",
    "import json\n",
    "import numpy as np\n",
    "import pandas as pd\n",
    "from sklearn.metrics import accuracy_score\n",
    "import torch\n",
    "from torch.utils.data import Dataset, DataLoader\n",
    "from transformers import BertTokenizer, BertConfig, BertForTokenClassification\n",
    "import matplotlib.pyplot as plt"
   ]
  },
  {
   "cell_type": "code",
   "execution_count": 2,
   "id": "2804926f",
   "metadata": {},
   "outputs": [
    {
     "name": "stdout",
     "output_type": "stream",
     "text": [
      "cuda\n"
     ]
    }
   ],
   "source": [
    "from torch import cuda\n",
    "device = 'cuda' if cuda.is_available() else 'cpu'\n",
    "print(device)"
   ]
  },
  {
   "cell_type": "code",
   "execution_count": 3,
   "id": "c059d06f",
   "metadata": {},
   "outputs": [],
   "source": [
    "tokenizer = BertTokenizer.from_pretrained('bert-base-uncased')"
   ]
  },
  {
   "cell_type": "code",
   "execution_count": 4,
   "id": "753bfbb0",
   "metadata": {},
   "outputs": [],
   "source": [
    "prod = 'B-PROD'\n",
    "\n",
    "label2id = {'O':0, prod:1}\n",
    "id2label = {0:'O', 1:prod}\n",
    "MAX_LEN = 128"
   ]
  },
  {
   "cell_type": "code",
   "execution_count": 5,
   "id": "4d2f9ba8",
   "metadata": {
    "scrolled": true
   },
   "outputs": [
    {
     "data": {
      "text/plain": [
       "BertForTokenClassification(\n",
       "  (bert): BertModel(\n",
       "    (embeddings): BertEmbeddings(\n",
       "      (word_embeddings): Embedding(30522, 768, padding_idx=0)\n",
       "      (position_embeddings): Embedding(512, 768)\n",
       "      (token_type_embeddings): Embedding(2, 768)\n",
       "      (LayerNorm): LayerNorm((768,), eps=1e-12, elementwise_affine=True)\n",
       "      (dropout): Dropout(p=0.1, inplace=False)\n",
       "    )\n",
       "    (encoder): BertEncoder(\n",
       "      (layer): ModuleList(\n",
       "        (0-11): 12 x BertLayer(\n",
       "          (attention): BertAttention(\n",
       "            (self): BertSelfAttention(\n",
       "              (query): Linear(in_features=768, out_features=768, bias=True)\n",
       "              (key): Linear(in_features=768, out_features=768, bias=True)\n",
       "              (value): Linear(in_features=768, out_features=768, bias=True)\n",
       "              (dropout): Dropout(p=0.1, inplace=False)\n",
       "            )\n",
       "            (output): BertSelfOutput(\n",
       "              (dense): Linear(in_features=768, out_features=768, bias=True)\n",
       "              (LayerNorm): LayerNorm((768,), eps=1e-12, elementwise_affine=True)\n",
       "              (dropout): Dropout(p=0.1, inplace=False)\n",
       "            )\n",
       "          )\n",
       "          (intermediate): BertIntermediate(\n",
       "            (dense): Linear(in_features=768, out_features=3072, bias=True)\n",
       "            (intermediate_act_fn): GELUActivation()\n",
       "          )\n",
       "          (output): BertOutput(\n",
       "            (dense): Linear(in_features=3072, out_features=768, bias=True)\n",
       "            (LayerNorm): LayerNorm((768,), eps=1e-12, elementwise_affine=True)\n",
       "            (dropout): Dropout(p=0.1, inplace=False)\n",
       "          )\n",
       "        )\n",
       "      )\n",
       "    )\n",
       "  )\n",
       "  (dropout): Dropout(p=0.1, inplace=False)\n",
       "  (classifier): Linear(in_features=768, out_features=2, bias=True)\n",
       ")"
      ]
     },
     "execution_count": 5,
     "metadata": {},
     "output_type": "execute_result"
    }
   ],
   "source": [
    "# model.load_state_dict()\n",
    "path = \"../data/saved_models/bert_trained.pth\"\n",
    "model = torch.load(path)\n",
    "model.eval()"
   ]
  },
  {
   "cell_type": "code",
   "execution_count": 6,
   "id": "1acfea5e",
   "metadata": {},
   "outputs": [],
   "source": [
    "# load data\n",
    "data_path = \"../data/crawled_texts/\"\n",
    "datas = [os.path.join(data_path, fname) for fname in sorted(os.listdir(data_path))]\n",
    "datas = [pd.read_json(fname, lines=True) for fname in datas]\n",
    "data = pd.concat(datas)"
   ]
  },
  {
   "cell_type": "code",
   "execution_count": 7,
   "id": "0039d6c5",
   "metadata": {},
   "outputs": [],
   "source": [
    "data.text = data.text.str.strip()"
   ]
  },
  {
   "cell_type": "code",
   "execution_count": 36,
   "id": "2864f61a",
   "metadata": {},
   "outputs": [],
   "source": [
    "def sperate_indices(indices_):\n",
    "    product_indices = []\n",
    "    if len(indices_) ==0:\n",
    "        return product_indices\n",
    "    start = indices_[0]\n",
    "    indices_ = indices_.tolist()\n",
    "    indices_.append(np.inf)\n",
    "    prev = start\n",
    "    if len(indices_)> 0:\n",
    "        for ind in indices_[1:]:        \n",
    "            if ind-prev > 1:\n",
    "                product_indices.append([start, prev])\n",
    "                start = ind\n",
    "            prev = ind\n",
    "    return product_indices\n",
    "\n",
    "def get_products(sentence_):\n",
    "#     print(sentence_)\n",
    "    all_product_names =[]\n",
    "#     for i in range(0, len(sentence_), 512):\n",
    "#         sub_sentence = sentence_[i*512:(i+1)*512]\n",
    "    inputs = tokenizer(sentence_, padding='max_length', truncation=True, max_length=MAX_LEN, return_tensors=\"pt\")\n",
    "    # move to gpu\n",
    "    ids = inputs[\"input_ids\"].to(device)\n",
    "    mask = inputs[\"attention_mask\"].to(device)\n",
    "    # forward pass\n",
    "    outputs = model(ids, mask)\n",
    "    logits = outputs[0]\n",
    "    active_logits = logits.view(-1, model.num_labels) # shape (batch_size * seq_len, num_labels)\n",
    "    flattened_predictions = torch.argmax(active_logits, axis=1) # shape (batch_size*seq_len,) - predictions at the token level\n",
    "    tokens = tokenizer.convert_ids_to_tokens(ids.squeeze().tolist())\n",
    "    token_predictions = [id2label[i] for i in flattened_predictions.cpu().numpy()]\n",
    "    wp_preds = list(zip(tokens, token_predictions)) # list of tuples. Each tuple = (wordpiece, prediction)\n",
    "    word_level_predictions = []\n",
    "    for pair in wp_preds:\n",
    "        if (pair[0].startswith(\" ##\")) or (pair[0] in ['[CLS]', '[SEP]', '[PAD]']):\n",
    "            # skip prediction\n",
    "            continue\n",
    "        else:\n",
    "            word_level_predictions.append(pair[1])\n",
    "\n",
    "    indices = np.where(np.array(token_predictions) == prod)[0]\n",
    "\n",
    "\n",
    "    products_indices = sperate_indices(indices)\n",
    "    product_names =[]\n",
    "    for product_indices in products_indices:\n",
    "        product_name = tokens[product_indices[0]:product_indices[1]+1]\n",
    "        new_product_name = []\n",
    "        for name in product_name:\n",
    "            if name.startswith(\"##\") and len(new_product_name) > 0:\n",
    "                new_product_name[-1] += name.replace(\"##\", '')\n",
    "            else:\n",
    "                new_product_name.append(name)\n",
    "        new_product_name = \" \".join([word for word in new_product_name \\\n",
    "                                 if not (word in ['[CLS]', '[SEP]', '[PAD]'])])\n",
    "        product_names.append(new_product_name)\n",
    "    all_product_names.extend(product_names)\n",
    "    return all_product_names"
   ]
  },
  {
   "cell_type": "code",
   "execution_count": 46,
   "id": "55a7f2fe",
   "metadata": {},
   "outputs": [],
   "source": [
    "sentences = data.text.apply(get_products)"
   ]
  },
  {
   "cell_type": "code",
   "execution_count": 47,
   "id": "0f8d9f3c",
   "metadata": {},
   "outputs": [],
   "source": [
    "sentences.to_csv('../data/results/predicted_results.csv')"
   ]
  },
  {
   "cell_type": "markdown",
   "id": "d13cf762",
   "metadata": {},
   "source": [
    "# get the statistics of the all products"
   ]
  },
  {
   "cell_type": "code",
   "execution_count": 48,
   "id": "cf875e60",
   "metadata": {},
   "outputs": [
    {
     "data": {
      "text/plain": [
       "458"
      ]
     },
     "execution_count": 48,
     "metadata": {},
     "output_type": "execute_result"
    }
   ],
   "source": [
    "sentences.apply(len).sum()"
   ]
  },
  {
   "cell_type": "code",
   "execution_count": 49,
   "id": "7f05477a",
   "metadata": {},
   "outputs": [],
   "source": [
    "# get the all products\n",
    "all_prducts = np.concatenate(sentences.values.flatten())"
   ]
  },
  {
   "cell_type": "code",
   "execution_count": 50,
   "id": "c4088721",
   "metadata": {},
   "outputs": [],
   "source": [
    "unique, counts = np.unique(all_prducts, return_counts=True)"
   ]
  },
  {
   "cell_type": "code",
   "execution_count": 51,
   "id": "928bde68",
   "metadata": {},
   "outputs": [
    {
     "data": {
      "text/plain": [
       "281"
      ]
     },
     "execution_count": 51,
     "metadata": {},
     "output_type": "execute_result"
    }
   ],
   "source": [
    "len(unique)"
   ]
  },
  {
   "cell_type": "code",
   "execution_count": 52,
   "id": "23a710e8",
   "metadata": {},
   "outputs": [],
   "source": []
  },
  {
   "cell_type": "code",
   "execution_count": null,
   "id": "218fd5fd",
   "metadata": {},
   "outputs": [],
   "source": []
  },
  {
   "cell_type": "markdown",
   "id": "46d176aa",
   "metadata": {},
   "source": [
    "# most occured 5 objects"
   ]
  },
  {
   "cell_type": "code",
   "execution_count": 58,
   "id": "9144c7e3",
   "metadata": {},
   "outputs": [
    {
     "data": {
      "text/plain": [
       "['chairs',\n",
       " 'bench',\n",
       " 'gift',\n",
       " 'stool',\n",
       " '##cks',\n",
       " 'ham',\n",
       " 'mirror',\n",
       " 'table',\n",
       " 'chair',\n",
       " 'sofa']"
      ]
     },
     "execution_count": 58,
     "metadata": {},
     "output_type": "execute_result"
    }
   ],
   "source": [
    "unique[counts.argsort()[-10:]].tolist()"
   ]
  },
  {
   "cell_type": "code",
   "execution_count": 59,
   "id": "5a27889f",
   "metadata": {},
   "outputs": [
    {
     "data": {
      "text/plain": [
       "<BarContainer object of 10 artists>"
      ]
     },
     "execution_count": 59,
     "metadata": {},
     "output_type": "execute_result"
    },
    {
     "data": {
      "image/png": "[encoded data removed]",
      "text/plain": [
       "<Figure size 2000x500 with 1 Axes>"
      ]
     },
     "metadata": {},
     "output_type": "display_data"
    }
   ],
   "source": [
    "fig, ax = plt.subplots(figsize=(20, 5))\n",
    "ax.bar(unique[counts.argsort()[-10:]].tolist(), counts.argsort()[-10:])"
   ]
  },
  {
   "cell_type": "code",
   "execution_count": null,
   "id": "85d2c697",
   "metadata": {},
   "outputs": [],
   "source": []
  },
  {
   "cell_type": "code",
   "execution_count": null,
   "id": "e65b8ff3",
   "metadata": {},
   "outputs": [],
   "source": []
  },
  {
   "cell_type": "code",
   "execution_count": null,
   "id": "879a803b",
   "metadata": {},
   "outputs": [],
   "source": []
  },
  {
   "cell_type": "code",
   "execution_count": null,
   "id": "d5a06ad5",
   "metadata": {},
   "outputs": [],
   "source": []
  }
 ],
 "metadata": {
  "kernelspec": {
   "display_name": "Python 3 (ipykernel)",
   "language": "python",
   "name": "python3"
  },
  "language_info": {
   "codemirror_mode": {
    "name": "ipython",
    "version": 3
   },
   "file_extension": ".py",
   "mimetype": "text/x-python",
   "name": "python",
   "nbconvert_exporter": "python",
   "pygments_lexer": "ipython3",
   "version": "3.9.18"
  }
 },
 "nbformat": 4,
 "nbformat_minor": 5
}
