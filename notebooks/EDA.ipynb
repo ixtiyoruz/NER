{
 "cells": [
  {
   "cell_type": "code",
   "execution_count": 1,
   "id": "339a69c9",
   "metadata": {},
   "outputs": [],
   "source": [
    "import os\n",
    "import json\n",
    "import numpy as np\n",
    "import pandas as pd"
   ]
  },
  {
   "cell_type": "markdown",
   "id": "ecc862ce",
   "metadata": {},
   "source": [
    "## Load the data"
   ]
  },
  {
   "cell_type": "code",
   "execution_count": 2,
   "id": "d11aeae9",
   "metadata": {},
   "outputs": [],
   "source": [
    "path_to_data= \"../data/annotated/annotations.jsonl\"\n",
    "\n",
    "df = pd.read_json(path_or_buf=path_to_data, lines=True)"
   ]
  },
  {
   "cell_type": "code",
   "execution_count": 3,
   "id": "e461d5b3",
   "metadata": {},
   "outputs": [
    {
     "data": {
      "text/html": [
       "<div>\n",
       "<style scoped>\n",
       "    .dataframe tbody tr th:only-of-type {\n",
       "        vertical-align: middle;\n",
       "    }\n",
       "\n",
       "    .dataframe tbody tr th {\n",
       "        vertical-align: top;\n",
       "    }\n",
       "\n",
       "    .dataframe thead th {\n",
       "        text-align: right;\n",
       "    }\n",
       "</style>\n",
       "<table border=\"1\" class=\"dataframe\">\n",
       "  <thead>\n",
       "    <tr style=\"text-align: right;\">\n",
       "      <th></th>\n",
       "      <th>id</th>\n",
       "      <th>text</th>\n",
       "      <th>status</th>\n",
       "      <th>url</th>\n",
       "      <th>file_name</th>\n",
       "      <th>label</th>\n",
       "      <th>Comments</th>\n",
       "    </tr>\n",
       "  </thead>\n",
       "  <tbody>\n",
       "    <tr>\n",
       "      <th>0</th>\n",
       "      <td>1</td>\n",
       "      <td>Page Not Found\\nThe page you are looking for d...</td>\n",
       "      <td>1</td>\n",
       "      <td>http://www.vawayside.net/store/products/tag/beds</td>\n",
       "      <td>data/crawled_texts/idx_4_2_s_1.json</td>\n",
       "      <td>[]</td>\n",
       "      <td>[]</td>\n",
       "    </tr>\n",
       "    <tr>\n",
       "      <th>1</th>\n",
       "      <td>2</td>\n",
       "      <td>(07) 5556 0693\\n[email protected]\\n130 Siganto...</td>\n",
       "      <td>1</td>\n",
       "      <td>https://hemisphereliving.com.au/products/</td>\n",
       "      <td>data/crawled_texts/idx_0_4_s_1.json</td>\n",
       "      <td>[[187, 210, product], [237, 267, product], [29...</td>\n",
       "      <td>[]</td>\n",
       "    </tr>\n",
       "    <tr>\n",
       "      <th>2</th>\n",
       "      <td>3</td>\n",
       "      <td>404\\nWe could not find the page you were looki...</td>\n",
       "      <td>0</td>\n",
       "      <td>https://edenliving.online/collections/summerlo...</td>\n",
       "      <td>data/crawled_texts/idx_1_4_s_0.json</td>\n",
       "      <td>[]</td>\n",
       "      <td>[]</td>\n",
       "    </tr>\n",
       "    <tr>\n",
       "      <th>3</th>\n",
       "      <td>4</td>\n",
       "      <td>404\\nPage not found\\nContinue shopping</td>\n",
       "      <td>0</td>\n",
       "      <td>https://www.ourfurniturewarehouse.com.au/produ...</td>\n",
       "      <td>data/crawled_texts/idx_2_0_s_0.json</td>\n",
       "      <td>[]</td>\n",
       "      <td>[]</td>\n",
       "    </tr>\n",
       "    <tr>\n",
       "      <th>4</th>\n",
       "      <td>5</td>\n",
       "      <td>View fullsize image\\nEmail us about this produ...</td>\n",
       "      <td>1</td>\n",
       "      <td>https://www.hudsonfurniture.com.au/products/st...</td>\n",
       "      <td>data/crawled_texts/idx_3_1_s_1.json</td>\n",
       "      <td>[[98, 123, product], [591, 618, product], [644...</td>\n",
       "      <td>[]</td>\n",
       "    </tr>\n",
       "    <tr>\n",
       "      <th>...</th>\n",
       "      <td>...</td>\n",
       "      <td>...</td>\n",
       "      <td>...</td>\n",
       "      <td>...</td>\n",
       "      <td>...</td>\n",
       "      <td>...</td>\n",
       "      <td>...</td>\n",
       "    </tr>\n",
       "    <tr>\n",
       "      <th>213</th>\n",
       "      <td>214</td>\n",
       "      <td>CAN WE HELP?\\n08 8399 1250\\nFURNITURE\\nHOMEWAR...</td>\n",
       "      <td>1</td>\n",
       "      <td>https://livingbydesign.net.au/products/sorense...</td>\n",
       "      <td>data/crawled_texts/idx_35_3_s_1.json</td>\n",
       "      <td>[[139, 166, product], [1481, 1508, product], [...</td>\n",
       "      <td>[]</td>\n",
       "    </tr>\n",
       "    <tr>\n",
       "      <th>214</th>\n",
       "      <td>215</td>\n",
       "      <td>PLUME WALLPAPER\\nSTYLE\\nWHITE\\nGREY &amp; WHITE\\nB...</td>\n",
       "      <td>1</td>\n",
       "      <td>https://shop.vanillawood.com/products/plume-wa...</td>\n",
       "      <td>data/crawled_texts/idx_39_0_s_1.json</td>\n",
       "      <td>[[0, 15, product]]</td>\n",
       "      <td>[]</td>\n",
       "    </tr>\n",
       "    <tr>\n",
       "      <th>215</th>\n",
       "      <td>216</td>\n",
       "      <td>Home /\\nGIFT VOUCHER\\nRegular price\\n$25.00\\n ...</td>\n",
       "      <td>1</td>\n",
       "      <td>https://thebanyantree.com.au/products/gift-card</td>\n",
       "      <td>data/crawled_texts/idx_34_3_s_1.json</td>\n",
       "      <td>[[7, 19, product]]</td>\n",
       "      <td>[]</td>\n",
       "    </tr>\n",
       "    <tr>\n",
       "      <th>216</th>\n",
       "      <td>217</td>\n",
       "      <td>Home\\nAll\\nGray Floating TV Stand Entertainmen...</td>\n",
       "      <td>1</td>\n",
       "      <td>https://www.woodwaves.com/products/gray-floati...</td>\n",
       "      <td>data/crawled_texts/idx_31_1_s_1.json</td>\n",
       "      <td>[[9, 71, product], [72, 134, product], [3044, ...</td>\n",
       "      <td>[]</td>\n",
       "    </tr>\n",
       "    <tr>\n",
       "      <th>217</th>\n",
       "      <td>218</td>\n",
       "      <td>Home\\nProducts\\nNews\\nCloud-system\\nWarranty\\n...</td>\n",
       "      <td>1</td>\n",
       "      <td>https://www.bellus.com/products/</td>\n",
       "      <td>data/crawled_texts/idx_36_3_s_1.json</td>\n",
       "      <td>[[307, 325, product], [326, 343, product], [34...</td>\n",
       "      <td>[]</td>\n",
       "    </tr>\n",
       "  </tbody>\n",
       "</table>\n",
       "<p>218 rows × 7 columns</p>\n",
       "</div>"
      ],
      "text/plain": [
       "      id                                               text  status  \\\n",
       "0      1  Page Not Found\\nThe page you are looking for d...       1   \n",
       "1      2  (07) 5556 0693\\n[email protected]\\n130 Siganto...       1   \n",
       "2      3  404\\nWe could not find the page you were looki...       0   \n",
       "3      4             404\\nPage not found\\nContinue shopping       0   \n",
       "4      5  View fullsize image\\nEmail us about this produ...       1   \n",
       "..   ...                                                ...     ...   \n",
       "213  214  CAN WE HELP?\\n08 8399 1250\\nFURNITURE\\nHOMEWAR...       1   \n",
       "214  215  PLUME WALLPAPER\\nSTYLE\\nWHITE\\nGREY & WHITE\\nB...       1   \n",
       "215  216  Home /\\nGIFT VOUCHER\\nRegular price\\n$25.00\\n ...       1   \n",
       "216  217  Home\\nAll\\nGray Floating TV Stand Entertainmen...       1   \n",
       "217  218  Home\\nProducts\\nNews\\nCloud-system\\nWarranty\\n...       1   \n",
       "\n",
       "                                                   url  \\\n",
       "0     http://www.vawayside.net/store/products/tag/beds   \n",
       "1            https://hemisphereliving.com.au/products/   \n",
       "2    https://edenliving.online/collections/summerlo...   \n",
       "3    https://www.ourfurniturewarehouse.com.au/produ...   \n",
       "4    https://www.hudsonfurniture.com.au/products/st...   \n",
       "..                                                 ...   \n",
       "213  https://livingbydesign.net.au/products/sorense...   \n",
       "214  https://shop.vanillawood.com/products/plume-wa...   \n",
       "215    https://thebanyantree.com.au/products/gift-card   \n",
       "216  https://www.woodwaves.com/products/gray-floati...   \n",
       "217                   https://www.bellus.com/products/   \n",
       "\n",
       "                                file_name  \\\n",
       "0     data/crawled_texts/idx_4_2_s_1.json   \n",
       "1     data/crawled_texts/idx_0_4_s_1.json   \n",
       "2     data/crawled_texts/idx_1_4_s_0.json   \n",
       "3     data/crawled_texts/idx_2_0_s_0.json   \n",
       "4     data/crawled_texts/idx_3_1_s_1.json   \n",
       "..                                    ...   \n",
       "213  data/crawled_texts/idx_35_3_s_1.json   \n",
       "214  data/crawled_texts/idx_39_0_s_1.json   \n",
       "215  data/crawled_texts/idx_34_3_s_1.json   \n",
       "216  data/crawled_texts/idx_31_1_s_1.json   \n",
       "217  data/crawled_texts/idx_36_3_s_1.json   \n",
       "\n",
       "                                                 label Comments  \n",
       "0                                                   []       []  \n",
       "1    [[187, 210, product], [237, 267, product], [29...       []  \n",
       "2                                                   []       []  \n",
       "3                                                   []       []  \n",
       "4    [[98, 123, product], [591, 618, product], [644...       []  \n",
       "..                                                 ...      ...  \n",
       "213  [[139, 166, product], [1481, 1508, product], [...       []  \n",
       "214                                 [[0, 15, product]]       []  \n",
       "215                                 [[7, 19, product]]       []  \n",
       "216  [[9, 71, product], [72, 134, product], [3044, ...       []  \n",
       "217  [[307, 325, product], [326, 343, product], [34...       []  \n",
       "\n",
       "[218 rows x 7 columns]"
      ]
     },
     "execution_count": 3,
     "metadata": {},
     "output_type": "execute_result"
    }
   ],
   "source": [
    "df"
   ]
  },
  {
   "cell_type": "code",
   "execution_count": 4,
   "id": "16a79acd",
   "metadata": {},
   "outputs": [],
   "source": [
    "# getting the count of labels\n",
    "anno_counts = df.label.apply(len)"
   ]
  },
  {
   "cell_type": "markdown",
   "id": "3a8db54c",
   "metadata": {},
   "source": [
    "## annotation summary"
   ]
  },
  {
   "cell_type": "code",
   "execution_count": 5,
   "id": "9e27dee1",
   "metadata": {},
   "outputs": [
    {
     "data": {
      "text/plain": [
       "<Axes: >"
      ]
     },
     "execution_count": 5,
     "metadata": {},
     "output_type": "execute_result"
    },
    {
     "data": {
      "image/png": "[encoded data removed]",
      "text/plain": [
       "<Figure size 640x480 with 1 Axes>"
      ]
     },
     "metadata": {},
     "output_type": "display_data"
    }
   ],
   "source": [
    "# number of annotations plot\n",
    "anno_counts.plot()"
   ]
  },
  {
   "cell_type": "code",
   "execution_count": 6,
   "id": "86a662ee",
   "metadata": {},
   "outputs": [
    {
     "data": {
      "text/plain": [
       "count    218.000000\n",
       "mean       4.486239\n",
       "std       18.603362\n",
       "min        0.000000\n",
       "25%        0.000000\n",
       "50%        0.000000\n",
       "75%        2.000000\n",
       "max      236.000000\n",
       "Name: label, dtype: float64"
      ]
     },
     "execution_count": 6,
     "metadata": {},
     "output_type": "execute_result"
    }
   ],
   "source": [
    "anno_counts.describe()"
   ]
  },
  {
   "cell_type": "markdown",
   "id": "d51356ed",
   "metadata": {},
   "source": [
    "## Number of samples with annotatinos"
   ]
  },
  {
   "cell_type": "code",
   "execution_count": 7,
   "id": "9ae53230",
   "metadata": {},
   "outputs": [
    {
     "data": {
      "text/plain": [
       "89"
      ]
     },
     "execution_count": 7,
     "metadata": {},
     "output_type": "execute_result"
    }
   ],
   "source": [
    "sum(anno_counts>0)"
   ]
  },
  {
   "cell_type": "markdown",
   "id": "d2011834",
   "metadata": {},
   "source": [
    "## number of samples without annotations"
   ]
  },
  {
   "cell_type": "code",
   "execution_count": 8,
   "id": "0fd09cec",
   "metadata": {},
   "outputs": [
    {
     "data": {
      "text/plain": [
       "129"
      ]
     },
     "execution_count": 8,
     "metadata": {},
     "output_type": "execute_result"
    }
   ],
   "source": [
    "sum(anno_counts==0)"
   ]
  },
  {
   "cell_type": "markdown",
   "id": "cb910cd9",
   "metadata": {},
   "source": [
    "as you can see more than half of the samples have no annotations."
   ]
  },
  {
   "cell_type": "markdown",
   "id": "ab6730c8",
   "metadata": {},
   "source": [
    "## what the label data represents "
   ]
  },
  {
   "cell_type": "code",
   "execution_count": 9,
   "id": "2a8c9390",
   "metadata": {},
   "outputs": [],
   "source": [
    "row = df.iloc[1]\n",
    "text = row['text']\n",
    "label = row['label']"
   ]
  },
  {
   "cell_type": "code",
   "execution_count": 10,
   "id": "8427e698",
   "metadata": {},
   "outputs": [
    {
     "data": {
      "text/plain": [
       "'(07) 5556 0693\\n[email protected]\\n130 Siganto Drive, Helensvale, QLD, 4212\\nHOME\\nOUR STORY\\nPRODUCTS BY STYLE\\nPRODUCTS BY CATEGORY\\nCONTACT\\nSearch for:\\nHome > Products\\nProducts On Sale\\nSALE!\\nAlexander 3 Seater Sofa\\n$2,795.00 $1,595.00\\nSALE!\\nSimja 6 Piece Alfresco Setting\\n$3,200.00 $1,995.00\\nSALE!\\nRecycled Pine TV Cabinet\\n$2,495.00 $1,695.00\\nSALE!\\nYukon 2.8m Dining Table\\n$1,995.00 $795.00\\nOUR LOCATION\\nCONTACT INFO\\n130 Siganto Drive, Helensvale, QLD, 4212\\n[email protected]\\n(07) 5556 0693\\nFOLLOW US\\ninstagram\\nfacebook\\nCATEGORIES\\nCoastal Furniture Gold Coast\\nDining Chairs Gold Coast\\nDining Tables Gold Coast\\nIndustrial Furniture Gold Coast\\nModern Furniture Gold Coast\\nCoffee Tables Gold Coast\\nCopyright 2023 © Hemisphere Living. Site by Enhance Industries.'"
      ]
     },
     "execution_count": 10,
     "metadata": {},
     "output_type": "execute_result"
    }
   ],
   "source": [
    "text"
   ]
  },
  {
   "cell_type": "code",
   "execution_count": 11,
   "id": "2e3f7205",
   "metadata": {},
   "outputs": [
    {
     "data": {
      "text/plain": [
       "[[187, 210, 'product'],\n",
       " [237, 267, 'product'],\n",
       " [294, 318, 'product'],\n",
       " [345, 368, 'product']]"
      ]
     },
     "execution_count": 11,
     "metadata": {},
     "output_type": "execute_result"
    }
   ],
   "source": [
    "label"
   ]
  },
  {
   "cell_type": "code",
   "execution_count": 12,
   "id": "41beb5e9",
   "metadata": {},
   "outputs": [
    {
     "data": {
      "text/plain": [
       "'Alexander 3 Seater Sofa'"
      ]
     },
     "execution_count": 12,
     "metadata": {},
     "output_type": "execute_result"
    }
   ],
   "source": [
    "text[label[0][0]:label[0][1]]"
   ]
  },
  {
   "cell_type": "markdown",
   "id": "89eec4e3",
   "metadata": {},
   "source": [
    "so that means <b> each label represents begining and and ending of the target label </b>"
   ]
  },
  {
   "cell_type": "markdown",
   "id": "bdf5bdd5",
   "metadata": {},
   "source": [
    "## cleaning extra whitespaces \n",
    "\n",
    "we only have two samples with extra white spaces"
   ]
  },
  {
   "cell_type": "code",
   "execution_count": 13,
   "id": "8fdd2e73",
   "metadata": {},
   "outputs": [
    {
     "data": {
      "text/html": [
       "<div>\n",
       "<style scoped>\n",
       "    .dataframe tbody tr th:only-of-type {\n",
       "        vertical-align: middle;\n",
       "    }\n",
       "\n",
       "    .dataframe tbody tr th {\n",
       "        vertical-align: top;\n",
       "    }\n",
       "\n",
       "    .dataframe thead th {\n",
       "        text-align: right;\n",
       "    }\n",
       "</style>\n",
       "<table border=\"1\" class=\"dataframe\">\n",
       "  <thead>\n",
       "    <tr style=\"text-align: right;\">\n",
       "      <th></th>\n",
       "      <th>id</th>\n",
       "      <th>text</th>\n",
       "      <th>status</th>\n",
       "      <th>url</th>\n",
       "      <th>file_name</th>\n",
       "      <th>label</th>\n",
       "      <th>Comments</th>\n",
       "    </tr>\n",
       "  </thead>\n",
       "  <tbody>\n",
       "    <tr>\n",
       "      <th>18</th>\n",
       "      <td>19</td>\n",
       "      <td>Please call Sales on   (844) 825-76...</td>\n",
       "      <td>1</td>\n",
       "      <td>https://modshop1.com/collections/amalfi/produc...</td>\n",
       "      <td>data/crawled_texts/idx_4_4_s_1.json</td>\n",
       "      <td>[]</td>\n",
       "      <td>[]</td>\n",
       "    </tr>\n",
       "    <tr>\n",
       "      <th>54</th>\n",
       "      <td>55</td>\n",
       "      <td>Facebook Messenger\\nREVIEW US\\n(4.3)\\nNEED HEL...</td>\n",
       "      <td>1</td>\n",
       "      <td>https://www.goodwoodfurniture.com.au/products/...</td>\n",
       "      <td>data/crawled_texts/idx_11_2_s_1.json</td>\n",
       "      <td>[[411, 424, product], [457, 470, product], [48...</td>\n",
       "      <td>[]</td>\n",
       "    </tr>\n",
       "    <tr>\n",
       "      <th>134</th>\n",
       "      <td>135</td>\n",
       "      <td>PRODUCTS\\nsearch\\nSearch for:\\nSearch\\nAll Din...</td>\n",
       "      <td>1</td>\n",
       "      <td>http://modliving.com.ph/products/</td>\n",
       "      <td>data/crawled_texts/idx_39_1_s_1.json</td>\n",
       "      <td>[[130, 153, product]]</td>\n",
       "      <td>[]</td>\n",
       "    </tr>\n",
       "    <tr>\n",
       "      <th>165</th>\n",
       "      <td>166</td>\n",
       "      <td>now is modern browser Chat with usLiveChat\\nSI...</td>\n",
       "      <td>1</td>\n",
       "      <td>https://tabularasa-furniture.com/collections/f...</td>\n",
       "      <td>data/crawled_texts/idx_35_2_s_1.json</td>\n",
       "      <td>[[128, 160, product], [695, 719, product]]</td>\n",
       "      <td>[]</td>\n",
       "    </tr>\n",
       "  </tbody>\n",
       "</table>\n",
       "</div>"
      ],
      "text/plain": [
       "      id                                               text  status  \\\n",
       "18    19             Please call Sales on   (844) 825-76...       1   \n",
       "54    55  Facebook Messenger\\nREVIEW US\\n(4.3)\\nNEED HEL...       1   \n",
       "134  135  PRODUCTS\\nsearch\\nSearch for:\\nSearch\\nAll Din...       1   \n",
       "165  166  now is modern browser Chat with usLiveChat\\nSI...       1   \n",
       "\n",
       "                                                   url  \\\n",
       "18   https://modshop1.com/collections/amalfi/produc...   \n",
       "54   https://www.goodwoodfurniture.com.au/products/...   \n",
       "134                  http://modliving.com.ph/products/   \n",
       "165  https://tabularasa-furniture.com/collections/f...   \n",
       "\n",
       "                                file_name  \\\n",
       "18    data/crawled_texts/idx_4_4_s_1.json   \n",
       "54   data/crawled_texts/idx_11_2_s_1.json   \n",
       "134  data/crawled_texts/idx_39_1_s_1.json   \n",
       "165  data/crawled_texts/idx_35_2_s_1.json   \n",
       "\n",
       "                                                 label Comments  \n",
       "18                                                  []       []  \n",
       "54   [[411, 424, product], [457, 470, product], [48...       []  \n",
       "134                              [[130, 153, product]]       []  \n",
       "165         [[128, 160, product], [695, 719, product]]       []  "
      ]
     },
     "execution_count": 13,
     "metadata": {},
     "output_type": "execute_result"
    }
   ],
   "source": [
    "df[~(df.text.str.replace(\"\\n\", \" \").str.strip() == df.text.str.replace(\"\\n\", \" \"))]"
   ]
  },
  {
   "cell_type": "code",
   "execution_count": 14,
   "id": "071e9e28",
   "metadata": {},
   "outputs": [],
   "source": [
    "# def transform_labels(text, labels):\n",
    "#     last_index = 0\n",
    "#     results = []\n",
    "#     for label in labels:\n",
    "#         start, end, l = label\n",
    "#         before_words = text[last_index: start].split(\" \")\n",
    "#         before_words = [word for word in before_words if len(word) > 0]\n",
    "#         num_of_words_before = len(before_words)\n",
    "        \n",
    "#         between_words = text[start: end].split(\" \")\n",
    "#         between_words = [word for word in between_words if len(word) > 0]\n",
    "#         num_of_words_between = len(between_words)\n",
    "#         results.extend([\"O\"]*num_of_words_before)\n",
    "#         results.extend([product_indicator]*num_of_words_between)\n",
    "#         last_index = end\n",
    "#     last_words = text[last_index:].split(\" \")\n",
    "#     last_words = [word for word in last_words if len(word) > 0]\n",
    "#     results.extend([\"O\"] * len(last_words))\n",
    "#     return text.split(\" \"), results\n",
    "# result = df.apply(lambda x: transform_labels(x['text'].replace(\"\\n\", \" \"), x['label']), axis=1)\n",
    "# final_df = pd.DataFrame({'words':result.apply(lambda x: x[0]), 'labels':result.apply(lambda x: x[1])})"
   ]
  },
  {
   "cell_type": "code",
   "execution_count": 15,
   "id": "ea913f48",
   "metadata": {},
   "outputs": [],
   "source": [
    "import copy\n",
    "def printing_labels(text, labels):    \n",
    "    for label in labels:\n",
    "        print(text[label[0]:label[1]])\n",
    "        \n",
    "def remove_extra_spaces(x):\n",
    "    text_, labels_ = x['text'], copy.deepcopy(x['label'])\n",
    "    try:\n",
    "        db_white_space_index = text_.index(\"  \")\n",
    "        while(db_white_space_index >= 0):\n",
    "            text_ = text_[:db_white_space_index] + text_[db_white_space_index+1:]\n",
    "            starting_index = -1\n",
    "            for idx, label in enumerate(labels_):\n",
    "                if label[0] > db_white_space_index:\n",
    "                    starting_index = idx\n",
    "                    break                    \n",
    "            if(starting_index >= 0):                \n",
    "                for idx in range(starting_index, len(labels_)):\n",
    "                    labels_[idx][0] = max(0, labels_[idx][0]-1)\n",
    "                    labels_[idx][1] = max(labels_[idx][1]-1, 0)\n",
    "            db_white_space_index = text_.index(\"  \")\n",
    "    except Exception as e:\n",
    "        pass\n",
    "    \n",
    "    if text_[-1] == \" \":\n",
    "        text_ = text_[:-1]\n",
    "    if text_[0] == \" \":\n",
    "        text_ = text_[1:]\n",
    "        for idx in range(0, len(labels_)):\n",
    "            labels_[idx][0]= max(labels_[idx][0]-1, 0)\n",
    "            labels_[idx][1] = max(labels_[idx][1]-1, 0)\n",
    "    return text_, labels_"
   ]
  },
  {
   "cell_type": "code",
   "execution_count": 16,
   "id": "9a756e45",
   "metadata": {},
   "outputs": [],
   "source": [
    "path_to_data= \"../data/annotated/annotations.jsonl\"\n",
    "\n",
    "df = pd.read_json(path_or_buf=path_to_data, lines=True)\n",
    "df.text = df.text.str.replace(\"\\n\", \" \")"
   ]
  },
  {
   "cell_type": "code",
   "execution_count": 17,
   "id": "ace84589",
   "metadata": {},
   "outputs": [],
   "source": [
    "df[['text', 'label']] = df.apply(lambda x: pd.Series([remove_extra_spaces(x)[0], remove_extra_spaces(x)[1]]), axis=1)"
   ]
  },
  {
   "cell_type": "code",
   "execution_count": 18,
   "id": "83ef7ab6",
   "metadata": {},
   "outputs": [
    {
     "data": {
      "text/html": [
       "<div>\n",
       "<style scoped>\n",
       "    .dataframe tbody tr th:only-of-type {\n",
       "        vertical-align: middle;\n",
       "    }\n",
       "\n",
       "    .dataframe tbody tr th {\n",
       "        vertical-align: top;\n",
       "    }\n",
       "\n",
       "    .dataframe thead th {\n",
       "        text-align: right;\n",
       "    }\n",
       "</style>\n",
       "<table border=\"1\" class=\"dataframe\">\n",
       "  <thead>\n",
       "    <tr style=\"text-align: right;\">\n",
       "      <th></th>\n",
       "      <th>id</th>\n",
       "      <th>text</th>\n",
       "      <th>status</th>\n",
       "      <th>url</th>\n",
       "      <th>file_name</th>\n",
       "      <th>label</th>\n",
       "      <th>Comments</th>\n",
       "    </tr>\n",
       "  </thead>\n",
       "  <tbody>\n",
       "  </tbody>\n",
       "</table>\n",
       "</div>"
      ],
      "text/plain": [
       "Empty DataFrame\n",
       "Columns: [id, text, status, url, file_name, label, Comments]\n",
       "Index: []"
      ]
     },
     "execution_count": 18,
     "metadata": {},
     "output_type": "execute_result"
    }
   ],
   "source": [
    "db_space_df = df[~(df.text.str.replace(\"\\n\", \" \").str.strip() == df.text.str.replace(\"\\n\", \" \"))]\n",
    "db_space_df"
   ]
  },
  {
   "cell_type": "code",
   "execution_count": null,
   "id": "589063f9",
   "metadata": {},
   "outputs": [],
   "source": []
  },
  {
   "cell_type": "code",
   "execution_count": 19,
   "id": "22717260",
   "metadata": {},
   "outputs": [],
   "source": [
    "df.to_csv(\"../data/annotated/cleaned_data.csv\", index=False)"
   ]
  },
  {
   "cell_type": "code",
   "execution_count": 20,
   "id": "22e9bb2e",
   "metadata": {},
   "outputs": [
    {
     "data": {
      "text/plain": [
       "8908"
      ]
     },
     "execution_count": 20,
     "metadata": {},
     "output_type": "execute_result"
    }
   ],
   "source": [
    "np.max((df.text.str.split().apply(len)))"
   ]
  },
  {
   "cell_type": "code",
   "execution_count": 21,
   "id": "10098a6f",
   "metadata": {},
   "outputs": [],
   "source": [
    "# sum(df.text.apply(lambda x: \"##\" in x))"
   ]
  },
  {
   "cell_type": "code",
   "execution_count": null,
   "id": "9e885d5d",
   "metadata": {},
   "outputs": [],
   "source": []
  },
  {
   "cell_type": "code",
   "execution_count": null,
   "id": "9db50945",
   "metadata": {},
   "outputs": [],
   "source": []
  },
  {
   "cell_type": "code",
   "execution_count": null,
   "id": "9a79956a",
   "metadata": {},
   "outputs": [],
   "source": []
  },
  {
   "cell_type": "code",
   "execution_count": null,
   "id": "286194c2",
   "metadata": {},
   "outputs": [],
   "source": []
  }
 ],
 "metadata": {
  "kernelspec": {
   "display_name": "Python 3 (ipykernel)",
   "language": "python",
   "name": "python3"
  },
  "language_info": {
   "codemirror_mode": {
    "name": "ipython",
    "version": 3
   },
   "file_extension": ".py",
   "mimetype": "text/x-python",
   "name": "python",
   "nbconvert_exporter": "python",
   "pygments_lexer": "ipython3",
   "version": "3.9.18"
  }
 },
 "nbformat": 4,
 "nbformat_minor": 5
}
